{
 "cells": [
  {
   "cell_type": "code",
   "execution_count": 3,
   "metadata": {
    "collapsed": true
   },
   "outputs": [],
   "source": [
    "import serial\n",
    "\n",
    "fout=open('Luminosidad_vs_Presion.txt','w')\n",
    "i=0\n",
    "ser = serial.Serial('/dev/ttyACM0', 9600)\n",
    "ser.flushOutput()\n",
    "#ser.flushInput()"
   ]
  },
  {
   "cell_type": "markdown",
   "metadata": {},
   "source": [
    "Sacar los datos en un .txt"
   ]
  },
  {
   "cell_type": "code",
   "execution_count": 4,
   "metadata": {},
   "outputs": [
    {
     "name": "stdout",
     "output_type": "stream",
     "text": [
      "('Presion: ', 4.31, ', Luminosidad: ', 0.05)\n",
      "('Presion: ', 4.31, ', Luminosidad: ', 0.05)\n",
      "('Presion: ', 4.32, ', Luminosidad: ', 0.06)\n",
      "('Presion: ', 4.31, ', Luminosidad: ', 0.06)\n",
      "('Presion: ', 4.31, ', Luminosidad: ', 0.06)\n",
      "('Presion: ', 4.31, ', Luminosidad: ', 0.08)\n",
      "('Presion: ', 4.32, ', Luminosidad: ', 0.06)\n",
      "('Presion: ', 4.32, ', Luminosidad: ', 0.04)\n",
      "('Presion: ', 4.31, ', Luminosidad: ', 0.03)\n",
      "('Presion: ', 4.32, ', Luminosidad: ', 0.03)\n",
      "('Presion: ', 4.32, ', Luminosidad: ', 0.03)\n",
      "('Presion: ', 4.32, ', Luminosidad: ', 0.04)\n",
      "('Presion: ', 4.31, ', Luminosidad: ', 0.07)\n",
      "('Presion: ', 4.32, ', Luminosidad: ', 0.0)\n",
      "('Presion: ', 4.32, ', Luminosidad: ', 0.05)\n",
      "('Presion: ', 4.31, ', Luminosidad: ', 0.0)\n",
      "('Presion: ', 4.31, ', Luminosidad: ', 0.07)\n",
      "('Presion: ', 4.32, ', Luminosidad: ', 0.08)\n",
      "('Presion: ', 4.32, ', Luminosidad: ', 0.08)\n",
      "('Presion: ', 4.31, ', Luminosidad: ', 0.56)\n",
      "('Presion: ', 4.32, ', Luminosidad: ', 0.23)\n",
      "('Presion: ', 4.32, ', Luminosidad: ', 0.07)\n",
      "('Presion: ', 4.31, ', Luminosidad: ', 0.05)\n",
      "('Presion: ', 4.31, ', Luminosidad: ', 0.08)\n",
      "('Presion: ', 4.31, ', Luminosidad: ', 0.05)\n",
      "('Presion: ', 4.31, ', Luminosidad: ', 0.06)\n",
      "('Presion: ', 4.31, ', Luminosidad: ', 0.09)\n",
      "('Presion: ', 4.31, ', Luminosidad: ', 0.07)\n",
      "('Presion: ', 4.31, ', Luminosidad: ', 0.07)\n",
      "('Presion: ', 4.31, ', Luminosidad: ', 0.17)\n",
      "('Presion: ', 4.31, ', Luminosidad: ', 0.06)\n",
      "('Presion: ', 4.31, ', Luminosidad: ', 0.52)\n",
      "('Presion: ', 4.32, ', Luminosidad: ', 0.02)\n",
      "('Presion: ', 4.32, ', Luminosidad: ', 0.07)\n",
      "('Presion: ', 4.32, ', Luminosidad: ', 0.07)\n",
      "('Presion: ', 4.32, ', Luminosidad: ', 0.03)\n",
      "('Presion: ', 4.31, ', Luminosidad: ', 0.04)\n",
      "('Presion: ', 4.31, ', Luminosidad: ', 0.06)\n",
      "('Presion: ', 4.31, ', Luminosidad: ', 0.09)\n",
      "('Presion: ', 4.31, ', Luminosidad: ', 0.13)\n",
      "('Presion: ', 4.31, ', Luminosidad: ', 0.02)\n",
      "('Presion: ', 4.31, ', Luminosidad: ', 0.03)\n",
      "('Presion: ', 4.31, ', Luminosidad: ', 0.02)\n",
      "('Presion: ', 4.31, ', Luminosidad: ', 0.04)\n",
      "('Presion: ', 4.32, ', Luminosidad: ', 0.05)\n",
      "('Presion: ', 4.31, ', Luminosidad: ', 0.05)\n",
      "('Presion: ', 4.31, ', Luminosidad: ', 0.04)\n",
      "('Presion: ', 4.31, ', Luminosidad: ', 0.08)\n",
      "('Presion: ', 4.32, ', Luminosidad: ', 0.05)\n",
      "('Presion: ', 4.32, ', Luminosidad: ', 0.03)\n",
      "('Presion: ', 4.32, ', Luminosidad: ', 0.06)\n",
      "('Presion: ', 4.32, ', Luminosidad: ', 0.31)\n",
      "('Presion: ', 4.32, ', Luminosidad: ', 0.2)\n",
      "('Presion: ', 4.32, ', Luminosidad: ', 0.16)\n",
      "('Presion: ', 4.32, ', Luminosidad: ', 0.07)\n",
      "('Presion: ', 4.32, ', Luminosidad: ', 0.03)\n"
     ]
    },
    {
     "ename": "KeyboardInterrupt",
     "evalue": "",
     "output_type": "error",
     "traceback": [
      "\u001b[0;31m---------------------------------------------------------------------------\u001b[0m",
      "\u001b[0;31mKeyboardInterrupt\u001b[0m                         Traceback (most recent call last)",
      "\u001b[0;32m<ipython-input-4-df21ddbc2ccc>\u001b[0m in \u001b[0;36m<module>\u001b[0;34m()\u001b[0m\n\u001b[1;32m      2\u001b[0m \u001b[0mMuestras\u001b[0m\u001b[0;34m=\u001b[0m\u001b[0;36m100\u001b[0m\u001b[0;34m\u001b[0m\u001b[0m\n\u001b[1;32m      3\u001b[0m \u001b[0;32mwhile\u001b[0m \u001b[0mTrue\u001b[0m\u001b[0;34m:\u001b[0m\u001b[0;34m\u001b[0m\u001b[0m\n\u001b[0;32m----> 4\u001b[0;31m     \u001b[0minbyte\u001b[0m\u001b[0;34m=\u001b[0m\u001b[0mser\u001b[0m\u001b[0;34m.\u001b[0m\u001b[0mreadline\u001b[0m\u001b[0;34m(\u001b[0m\u001b[0;34m)\u001b[0m\u001b[0;34m\u001b[0m\u001b[0m\n\u001b[0m\u001b[1;32m      5\u001b[0m     \u001b[0mtest\u001b[0m\u001b[0;34m=\u001b[0m\u001b[0mfloat\u001b[0m\u001b[0;34m(\u001b[0m\u001b[0minbyte\u001b[0m\u001b[0;34m)\u001b[0m\u001b[0;34m\u001b[0m\u001b[0m\n\u001b[1;32m      6\u001b[0m     \u001b[0;32mif\u001b[0m\u001b[0;34m(\u001b[0m\u001b[0mtest\u001b[0m\u001b[0;34m==\u001b[0m\u001b[0;34m-\u001b[0m\u001b[0;36m1000\u001b[0m\u001b[0;34m)\u001b[0m\u001b[0;34m:\u001b[0m\u001b[0;34m\u001b[0m\u001b[0m\n",
      "\u001b[0;32m/usr/lib/python2.7/dist-packages/serial/serialposix.pyc\u001b[0m in \u001b[0;36mread\u001b[0;34m(self, size)\u001b[0m\n\u001b[1;32m    470\u001b[0m         \u001b[0;32mwhile\u001b[0m \u001b[0mlen\u001b[0m\u001b[0;34m(\u001b[0m\u001b[0mread\u001b[0m\u001b[0;34m)\u001b[0m \u001b[0;34m<\u001b[0m \u001b[0msize\u001b[0m\u001b[0;34m:\u001b[0m\u001b[0;34m\u001b[0m\u001b[0m\n\u001b[1;32m    471\u001b[0m             \u001b[0;32mtry\u001b[0m\u001b[0;34m:\u001b[0m\u001b[0;34m\u001b[0m\u001b[0m\n\u001b[0;32m--> 472\u001b[0;31m                 \u001b[0mready\u001b[0m\u001b[0;34m,\u001b[0m \u001b[0m_\u001b[0m\u001b[0;34m,\u001b[0m \u001b[0m_\u001b[0m \u001b[0;34m=\u001b[0m \u001b[0mselect\u001b[0m\u001b[0;34m.\u001b[0m\u001b[0mselect\u001b[0m\u001b[0;34m(\u001b[0m\u001b[0;34m[\u001b[0m\u001b[0mself\u001b[0m\u001b[0;34m.\u001b[0m\u001b[0mfd\u001b[0m\u001b[0;34m,\u001b[0m \u001b[0mself\u001b[0m\u001b[0;34m.\u001b[0m\u001b[0mpipe_abort_read_r\u001b[0m\u001b[0;34m]\u001b[0m\u001b[0;34m,\u001b[0m \u001b[0;34m[\u001b[0m\u001b[0;34m]\u001b[0m\u001b[0;34m,\u001b[0m \u001b[0;34m[\u001b[0m\u001b[0;34m]\u001b[0m\u001b[0;34m,\u001b[0m \u001b[0mtimeout\u001b[0m\u001b[0;34m.\u001b[0m\u001b[0mtime_left\u001b[0m\u001b[0;34m(\u001b[0m\u001b[0;34m)\u001b[0m\u001b[0;34m)\u001b[0m\u001b[0;34m\u001b[0m\u001b[0m\n\u001b[0m\u001b[1;32m    473\u001b[0m                 \u001b[0;32mif\u001b[0m \u001b[0mself\u001b[0m\u001b[0;34m.\u001b[0m\u001b[0mpipe_abort_read_r\u001b[0m \u001b[0;32min\u001b[0m \u001b[0mready\u001b[0m\u001b[0;34m:\u001b[0m\u001b[0;34m\u001b[0m\u001b[0m\n\u001b[1;32m    474\u001b[0m                     \u001b[0mos\u001b[0m\u001b[0;34m.\u001b[0m\u001b[0mread\u001b[0m\u001b[0;34m(\u001b[0m\u001b[0mself\u001b[0m\u001b[0;34m.\u001b[0m\u001b[0mpipe_abort_read_r\u001b[0m\u001b[0;34m,\u001b[0m \u001b[0;36m1000\u001b[0m\u001b[0;34m)\u001b[0m\u001b[0;34m\u001b[0m\u001b[0m\n",
      "\u001b[0;31mKeyboardInterrupt\u001b[0m: "
     ]
    }
   ],
   "source": [
    "i=0\n",
    "Muestras=100 \n",
    "while True:\n",
    "    inbyte=ser.readline()\n",
    "    test=float(inbyte)\n",
    "    if(test==-1000):\n",
    "        fout = open('Luminosidad_vs_Presion.txt','a')\n",
    "        inbyte1=ser.readline()\n",
    "        inbyte2=ser.readline()\n",
    "        D1=float(inbyte1)\n",
    "        D2=float(inbyte2)\n",
    "        print(\"Presion: \", D1,\", Luminosidad: \",D2)\n",
    "        fout.write('{} {}\\n'.format(D1,D2))\n",
    "        fout.close()"
   ]
  },
  {
   "cell_type": "code",
   "execution_count": null,
   "metadata": {
    "collapsed": true
   },
   "outputs": [],
   "source": []
  }
 ],
 "metadata": {
  "kernelspec": {
   "display_name": "Python 2",
   "language": "python",
   "name": "python2"
  },
  "language_info": {
   "codemirror_mode": {
    "name": "ipython",
    "version": 2
   },
   "file_extension": ".py",
   "mimetype": "text/x-python",
   "name": "python",
   "nbconvert_exporter": "python",
   "pygments_lexer": "ipython2",
   "version": "2.7.13"
  }
 },
 "nbformat": 4,
 "nbformat_minor": 2
}
